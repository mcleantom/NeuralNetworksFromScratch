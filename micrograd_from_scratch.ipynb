{
  "nbformat": 4,
  "nbformat_minor": 0,
  "metadata": {
    "colab": {
      "provenance": [],
      "authorship_tag": "ABX9TyPCWTqRM6kwrcba0sD7ZImN",
      "include_colab_link": true
    },
    "kernelspec": {
      "name": "python3",
      "display_name": "Python 3"
    },
    "language_info": {
      "name": "python"
    }
  },
  "cells": [
    {
      "cell_type": "markdown",
      "metadata": {
        "id": "view-in-github",
        "colab_type": "text"
      },
      "source": [
        "<a href=\"https://colab.research.google.com/github/mcleantom/NeuralNetworksFromScratch/blob/main/micrograd_from_scratch.ipynb\" target=\"_parent\"><img src=\"https://colab.research.google.com/assets/colab-badge.svg\" alt=\"Open In Colab\"/></a>"
      ]
    },
    {
      "cell_type": "code",
      "execution_count": 94,
      "metadata": {
        "id": "T8G1vq6_sH-O"
      },
      "outputs": [],
      "source": [
        "#@title\n",
        "import math\n",
        "import numpy as np\n",
        "import matplotlib.pyplot as plt\n",
        "import random\n",
        "%matplotlib inline"
      ]
    },
    {
      "cell_type": "code",
      "source": [
        "def f(x):\n",
        "  return 3*x**2 - 4*x + 5"
      ],
      "metadata": {
        "id": "vFFa8hErsxTE"
      },
      "execution_count": 2,
      "outputs": []
    },
    {
      "cell_type": "code",
      "source": [
        "xs = np.arange(-5, 5, 0.25)\n",
        "ys = f(xs)\n",
        "plt.plot(xs, ys)"
      ],
      "metadata": {
        "colab": {
          "base_uri": "https://localhost:8080/",
          "height": 282
        },
        "id": "WL3M1Q4vs_TV",
        "outputId": "8b684154-eef6-4858-a3bb-bba4a5e76e1d"
      },
      "execution_count": 5,
      "outputs": [
        {
          "output_type": "execute_result",
          "data": {
            "text/plain": [
              "[<matplotlib.lines.Line2D at 0x7f960e46e9a0>]"
            ]
          },
          "metadata": {},
          "execution_count": 5
        },
        {
          "output_type": "display_data",
          "data": {
            "text/plain": [
              "<Figure size 432x288 with 1 Axes>"
            ],
            "image/png": "[encoded data removed]"
          },
          "metadata": {
            "needs_background": "light"
          }
        }
      ]
    },
    {
      "cell_type": "code",
      "source": [
        "h = 0.000000001\n",
        "x = 2/3\n",
        "(f(x+h) - f(x))/h"
      ],
      "metadata": {
        "colab": {
          "base_uri": "https://localhost:8080/"
        },
        "id": "z08NLULwtEK8",
        "outputId": "9350d198-beeb-4246-f1d8-38a124dc576d"
      },
      "execution_count": 10,
      "outputs": [
        {
          "output_type": "execute_result",
          "data": {
            "text/plain": [
              "0.0"
            ]
          },
          "metadata": {},
          "execution_count": 10
        }
      ]
    },
    {
      "cell_type": "code",
      "source": [
        "\n",
        "\n",
        "class Value:\n",
        "  \n",
        "  def __init__(self, data, _children=(), _op='', label=''):\n",
        "    self.data = data\n",
        "    self.grad = 0.0\n",
        "    self._backward = lambda: None\n",
        "    self._prev = set(_children)\n",
        "    self._op = _op\n",
        "    self.label = label\n",
        "\n",
        "  def __repr__(self):\n",
        "    return f\"Value(data={self.data})\"\n",
        "  \n",
        "  def __add__(self, other):\n",
        "    other = other if isinstance(other, Value) else Value(other)\n",
        "    out = Value(self.data + other.data, (self, other), '+')\n",
        "    \n",
        "    def _backward():\n",
        "      self.grad += 1.0 * out.grad\n",
        "      other.grad += 1.0 * out.grad\n",
        "    out._backward = _backward\n",
        "    \n",
        "    return out\n",
        "\n",
        "  def __mul__(self, other):\n",
        "    other = other if isinstance(other, Value) else Value(other)\n",
        "    out = Value(self.data * other.data, (self, other), '*')\n",
        "    \n",
        "    def _backward():\n",
        "      self.grad += other.data * out.grad\n",
        "      other.grad += self.data * out.grad\n",
        "    out._backward = _backward\n",
        "      \n",
        "    return out\n",
        "  \n",
        "  def __pow__(self, other):\n",
        "    assert isinstance(other, (int, float)), \"only supporting int/float powers for now\"\n",
        "    out = Value(self.data**other, (self,), f'**{other}')\n",
        "\n",
        "    def _backward():\n",
        "        self.grad += other * (self.data ** (other - 1)) * out.grad\n",
        "    out._backward = _backward\n",
        "\n",
        "    return out\n",
        "  \n",
        "  def __rmul__(self, other): # other * self\n",
        "    return self * other\n",
        "\n",
        "  def __truediv__(self, other): # self / other\n",
        "    return self * other**-1\n",
        "\n",
        "  def __neg__(self): # -self\n",
        "    return self * -1\n",
        "\n",
        "  def __sub__(self, other): # self - other\n",
        "    return self + (-other)\n",
        "\n",
        "  def __radd__(self, other): # other + self\n",
        "    return self + other\n",
        "\n",
        "  def tanh(self):\n",
        "    x = self.data\n",
        "    t = (math.exp(2*x) - 1)/(math.exp(2*x) + 1)\n",
        "    out = Value(t, (self, ), 'tanh')\n",
        "    \n",
        "    def _backward():\n",
        "      self.grad += (1 - t**2) * out.grad\n",
        "    out._backward = _backward\n",
        "    \n",
        "    return out\n",
        "  \n",
        "  def exp(self):\n",
        "    x = self.data\n",
        "    out = Value(math.exp(x), (self, ), 'exp')\n",
        "    \n",
        "    def _backward():\n",
        "      self.grad += out.data * out.grad # NOTE: in the video I incorrectly used = instead of +=. Fixed here.\n",
        "    out._backward = _backward\n",
        "    \n",
        "    return out\n",
        "  \n",
        "  \n",
        "  def backward(self):\n",
        "    \n",
        "    topo = []\n",
        "    visited = set()\n",
        "    def build_topo(v):\n",
        "      if v not in visited:\n",
        "        visited.add(v)\n",
        "        for child in v._prev:\n",
        "          build_topo(child)\n",
        "        topo.append(v)\n",
        "    build_topo(self)\n",
        "    \n",
        "    self.grad = 1.0\n",
        "    for node in reversed(topo):\n",
        "      node._backward()\n",
        "\n",
        "\n",
        "a = Value(2.0, label=\"a\")\n",
        "b = Value(-3.0, label=\"b\")\n",
        "c = Value(10.0, label=\"c\")\n",
        "e = a * b\n",
        "e.label = \"e\"\n",
        "d = e + c\n",
        "d.label=\"d\"\n",
        "\n",
        "f = Value(-2.0, label=\"f\")\n",
        "\n",
        "l = d * f\n",
        "l.label = \"l\"\n",
        "\n",
        "d, d._prev, d._op"
      ],
      "metadata": {
        "colab": {
          "base_uri": "https://localhost:8080/"
        },
        "id": "Vdmw1QhntldE",
        "outputId": "847d78ec-abd2-4f40-e55d-24f90ff36901"
      },
      "execution_count": 103,
      "outputs": [
        {
          "output_type": "execute_result",
          "data": {
            "text/plain": [
              "(Value(data=4.0), {Value(data=-6.0), Value(data=10.0)}, '+')"
            ]
          },
          "metadata": {},
          "execution_count": 103
        }
      ]
    },
    {
      "cell_type": "code",
      "source": [
        "from graphviz import Digraph\n",
        "\n",
        "def trace(root):\n",
        "  # builds a set of all nodes and edges in a graph\n",
        "  nodes, edges = set(), set()\n",
        "  def build(v):\n",
        "    if v not in nodes:\n",
        "      nodes.add(v)\n",
        "      for child in v._prev:\n",
        "        edges.add((child, v))\n",
        "        build(child)\n",
        "  build(root)\n",
        "  return nodes, edges\n",
        "\n",
        "def draw_dot(root):\n",
        "  dot = Digraph(format='svg', graph_attr={'rankdir': 'LR'}) # LR = left to right\n",
        "  \n",
        "  nodes, edges = trace(root)\n",
        "  for n in nodes:\n",
        "    uid = str(id(n))\n",
        "    # for any value in the graph, create a rectangular ('record') node for it\n",
        "    dot.node(name = uid, label =f\"{n.label} | data {n.data:.4f} | grad {n.grad:.4f}\", shape='record')\n",
        "    if n._op:\n",
        "      # if this value is a result of some operation, create an op node for it\n",
        "      dot.node(name = uid + n._op, label = n._op)\n",
        "      # and connect this node to it\n",
        "      dot.edge(uid + n._op, uid)\n",
        "\n",
        "  for n1, n2 in edges:\n",
        "    # connect n1 to the op node of n2\n",
        "    dot.edge(str(id(n1)), str(id(n2)) + n2._op)\n",
        "\n",
        "  return dot"
      ],
      "metadata": {
        "id": "zIXxWJ6suElH"
      },
      "execution_count": 82,
      "outputs": []
    },
    {
      "cell_type": "code",
      "source": [
        "draw_dot(l)"
      ],
      "metadata": {
        "colab": {
          "base_uri": "https://localhost:8080/",
          "height": 321
        },
        "id": "Ma5r9OUMwF1-",
        "outputId": "cf7b78cb-f8be-42cb-a361-b3aeabf43d38"
      },
      "execution_count": 46,
      "outputs": [
        {
          "output_type": "execute_result",
          "data": {
            "text/plain": [
              "<graphviz.dot.Digraph at 0x7f95f74bcdf0>"
            ],
            "image/svg+xml": "<?xml version=\"1.0\" encoding=\"UTF-8\" standalone=\"no\"?>\n<!DOCTYPE svg PUBLIC \"-//W3C//DTD SVG 1.1//EN\"\n \"http://www.w3.org/Graphics/SVG/1.1/DTD/svg11.dtd\">\n<!-- Generated by graphviz version 2.43.0 (0)\n -->\n<!-- Title: %3 Pages: 1 -->\n<svg width=\"648pt\" height=\"210pt\"\n viewBox=\"0.00 0.00 648.00 210.00\" xmlns=\"http://www.w3.org/2000/svg\" xmlns:xlink=\"http://www.w3.org/1999/xlink\">\n<g id=\"graph0\" class=\"graph\" transform=\"scale(1 1) rotate(0) translate(4 206)\">\n<title>%3</title>\n<polygon fill=\"white\" stroke=\"transparent\" points=\"-4,4 -4,-206 644,-206 644,4 -4,4\"/>\n<!-- 140282075140640 -->\n<g id=\"node1\" class=\"node\">\n<title>140282075140640</title>\n<polygon fill=\"none\" stroke=\"black\" points=\"575,-88.5 575,-157.5 640,-157.5 640,-88.5 575,-88.5\"/>\n<text text-anchor=\"middle\" x=\"607.5\" y=\"-142.3\" font-family=\"Times,serif\" font-size=\"14.00\">l</text>\n<polyline fill=\"none\" stroke=\"black\" points=\"575,-134.5 640,-134.5 \"/>\n<text text-anchor=\"middle\" x=\"607.5\" y=\"-119.3\" font-family=\"Times,serif\" font-size=\"14.00\">data &#45;8.0</text>\n<polyline fill=\"none\" stroke=\"black\" points=\"575,-111.5 640,-111.5 \"/>\n<text text-anchor=\"middle\" x=\"607.5\" y=\"-96.3\" font-family=\"Times,serif\" font-size=\"14.00\">grad 0</text>\n</g>\n<!-- 140282075140640* -->\n<g id=\"node2\" class=\"node\">\n<title>140282075140640*</title>\n<ellipse fill=\"none\" stroke=\"black\" cx=\"512\" cy=\"-123\" rx=\"27\" ry=\"18\"/>\n<text text-anchor=\"middle\" x=\"512\" y=\"-119.3\" font-family=\"Times,serif\" font-size=\"14.00\">*</text>\n</g>\n<!-- 140282075140640*&#45;&gt;140282075140640 -->\n<g id=\"edge1\" class=\"edge\">\n<title>140282075140640*&#45;&gt;140282075140640</title>\n<path fill=\"none\" stroke=\"black\" d=\"M539.04,-123C547.05,-123 556.06,-123 564.83,-123\"/>\n<polygon fill=\"black\" stroke=\"black\" points=\"564.95,-126.5 574.94,-123 564.94,-119.5 564.95,-126.5\"/>\n</g>\n<!-- 140282075142224 -->\n<g id=\"node3\" class=\"node\">\n<title>140282075142224</title>\n<polygon fill=\"none\" stroke=\"black\" points=\"2.5,-132.5 2.5,-201.5 62.5,-201.5 62.5,-132.5 2.5,-132.5\"/>\n<text text-anchor=\"middle\" x=\"32.5\" y=\"-186.3\" font-family=\"Times,serif\" font-size=\"14.00\">a</text>\n<polyline fill=\"none\" stroke=\"black\" points=\"2.5,-178.5 62.5,-178.5 \"/>\n<text text-anchor=\"middle\" x=\"32.5\" y=\"-163.3\" font-family=\"Times,serif\" font-size=\"14.00\">data 2.0</text>\n<polyline fill=\"none\" stroke=\"black\" points=\"2.5,-155.5 62.5,-155.5 \"/>\n<text text-anchor=\"middle\" x=\"32.5\" y=\"-140.3\" font-family=\"Times,serif\" font-size=\"14.00\">grad 0</text>\n</g>\n<!-- 140282075140784* -->\n<g id=\"node6\" class=\"node\">\n<title>140282075140784*</title>\n<ellipse fill=\"none\" stroke=\"black\" cx=\"128\" cy=\"-123\" rx=\"27\" ry=\"18\"/>\n<text text-anchor=\"middle\" x=\"128\" y=\"-119.3\" font-family=\"Times,serif\" font-size=\"14.00\">*</text>\n</g>\n<!-- 140282075142224&#45;&gt;140282075140784* -->\n<g id=\"edge6\" class=\"edge\">\n<title>140282075142224&#45;&gt;140282075140784*</title>\n<path fill=\"none\" stroke=\"black\" d=\"M62.57,-153.32C73.27,-148.29 85.41,-142.57 96.25,-137.47\"/>\n<polygon fill=\"black\" stroke=\"black\" points=\"97.82,-140.6 105.37,-133.18 94.84,-134.27 97.82,-140.6\"/>\n</g>\n<!-- 140282075140208 -->\n<g id=\"node4\" class=\"node\">\n<title>140282075140208</title>\n<polygon fill=\"none\" stroke=\"black\" points=\"384,-132.5 384,-201.5 449,-201.5 449,-132.5 384,-132.5\"/>\n<text text-anchor=\"middle\" x=\"416.5\" y=\"-186.3\" font-family=\"Times,serif\" font-size=\"14.00\">f</text>\n<polyline fill=\"none\" stroke=\"black\" points=\"384,-178.5 449,-178.5 \"/>\n<text text-anchor=\"middle\" x=\"416.5\" y=\"-163.3\" font-family=\"Times,serif\" font-size=\"14.00\">data &#45;2.0</text>\n<polyline fill=\"none\" stroke=\"black\" points=\"384,-155.5 449,-155.5 \"/>\n<text text-anchor=\"middle\" x=\"416.5\" y=\"-140.3\" font-family=\"Times,serif\" font-size=\"14.00\">grad 0</text>\n</g>\n<!-- 140282075140208&#45;&gt;140282075140640* -->\n<g id=\"edge7\" class=\"edge\">\n<title>140282075140208&#45;&gt;140282075140640*</title>\n<path fill=\"none\" stroke=\"black\" d=\"M449.15,-152.1C459.19,-147.38 470.27,-142.17 480.24,-137.47\"/>\n<polygon fill=\"black\" stroke=\"black\" points=\"481.84,-140.59 489.4,-133.17 478.86,-134.26 481.84,-140.59\"/>\n</g>\n<!-- 140282075140784 -->\n<g id=\"node5\" class=\"node\">\n<title>140282075140784</title>\n<polygon fill=\"none\" stroke=\"black\" points=\"192,-88.5 192,-157.5 257,-157.5 257,-88.5 192,-88.5\"/>\n<text text-anchor=\"middle\" x=\"224.5\" y=\"-142.3\" font-family=\"Times,serif\" font-size=\"14.00\">e</text>\n<polyline fill=\"none\" stroke=\"black\" points=\"192,-134.5 257,-134.5 \"/>\n<text text-anchor=\"middle\" x=\"224.5\" y=\"-119.3\" font-family=\"Times,serif\" font-size=\"14.00\">data &#45;6.0</text>\n<polyline fill=\"none\" stroke=\"black\" points=\"192,-111.5 257,-111.5 \"/>\n<text text-anchor=\"middle\" x=\"224.5\" y=\"-96.3\" font-family=\"Times,serif\" font-size=\"14.00\">grad 0</text>\n</g>\n<!-- 140282075141072+ -->\n<g id=\"node10\" class=\"node\">\n<title>140282075141072+</title>\n<ellipse fill=\"none\" stroke=\"black\" cx=\"321\" cy=\"-79\" rx=\"27\" ry=\"18\"/>\n<text text-anchor=\"middle\" x=\"321\" y=\"-75.3\" font-family=\"Times,serif\" font-size=\"14.00\">+</text>\n</g>\n<!-- 140282075140784&#45;&gt;140282075141072+ -->\n<g id=\"edge8\" class=\"edge\">\n<title>140282075140784&#45;&gt;140282075141072+</title>\n<path fill=\"none\" stroke=\"black\" d=\"M257.23,-108.23C267.47,-103.46 278.8,-98.18 288.99,-93.44\"/>\n<polygon fill=\"black\" stroke=\"black\" points=\"290.74,-96.48 298.33,-89.09 287.79,-90.14 290.74,-96.48\"/>\n</g>\n<!-- 140282075140784*&#45;&gt;140282075140784 -->\n<g id=\"edge2\" class=\"edge\">\n<title>140282075140784*&#45;&gt;140282075140784</title>\n<path fill=\"none\" stroke=\"black\" d=\"M155.07,-123C163.33,-123 172.67,-123 181.74,-123\"/>\n<polygon fill=\"black\" stroke=\"black\" points=\"181.79,-126.5 191.79,-123 181.79,-119.5 181.79,-126.5\"/>\n</g>\n<!-- 140282075143376 -->\n<g id=\"node7\" class=\"node\">\n<title>140282075143376</title>\n<polygon fill=\"none\" stroke=\"black\" points=\"191,-0.5 191,-69.5 258,-69.5 258,-0.5 191,-0.5\"/>\n<text text-anchor=\"middle\" x=\"224.5\" y=\"-54.3\" font-family=\"Times,serif\" font-size=\"14.00\">c</text>\n<polyline fill=\"none\" stroke=\"black\" points=\"191,-46.5 258,-46.5 \"/>\n<text text-anchor=\"middle\" x=\"224.5\" y=\"-31.3\" font-family=\"Times,serif\" font-size=\"14.00\">data 10.0</text>\n<polyline fill=\"none\" stroke=\"black\" points=\"191,-23.5 258,-23.5 \"/>\n<text text-anchor=\"middle\" x=\"224.5\" y=\"-8.3\" font-family=\"Times,serif\" font-size=\"14.00\">grad 0</text>\n</g>\n<!-- 140282075143376&#45;&gt;140282075141072+ -->\n<g id=\"edge9\" class=\"edge\">\n<title>140282075143376&#45;&gt;140282075141072+</title>\n<path fill=\"none\" stroke=\"black\" d=\"M258.02,-50.14C268.14,-54.85 279.25,-60.03 289.24,-64.68\"/>\n<polygon fill=\"black\" stroke=\"black\" points=\"287.86,-67.9 298.41,-68.95 290.82,-61.55 287.86,-67.9\"/>\n</g>\n<!-- 140282075143520 -->\n<g id=\"node8\" class=\"node\">\n<title>140282075143520</title>\n<polygon fill=\"none\" stroke=\"black\" points=\"0,-44.5 0,-113.5 65,-113.5 65,-44.5 0,-44.5\"/>\n<text text-anchor=\"middle\" x=\"32.5\" y=\"-98.3\" font-family=\"Times,serif\" font-size=\"14.00\">b</text>\n<polyline fill=\"none\" stroke=\"black\" points=\"0,-90.5 65,-90.5 \"/>\n<text text-anchor=\"middle\" x=\"32.5\" y=\"-75.3\" font-family=\"Times,serif\" font-size=\"14.00\">data &#45;3.0</text>\n<polyline fill=\"none\" stroke=\"black\" points=\"0,-67.5 65,-67.5 \"/>\n<text text-anchor=\"middle\" x=\"32.5\" y=\"-52.3\" font-family=\"Times,serif\" font-size=\"14.00\">grad 0</text>\n</g>\n<!-- 140282075143520&#45;&gt;140282075140784* -->\n<g id=\"edge5\" class=\"edge\">\n<title>140282075143520&#45;&gt;140282075140784*</title>\n<path fill=\"none\" stroke=\"black\" d=\"M65.15,-93.9C75.19,-98.62 86.27,-103.83 96.24,-108.53\"/>\n<polygon fill=\"black\" stroke=\"black\" points=\"94.86,-111.74 105.4,-112.83 97.84,-105.41 94.86,-111.74\"/>\n</g>\n<!-- 140282075141072 -->\n<g id=\"node9\" class=\"node\">\n<title>140282075141072</title>\n<polygon fill=\"none\" stroke=\"black\" points=\"386.5,-44.5 386.5,-113.5 446.5,-113.5 446.5,-44.5 386.5,-44.5\"/>\n<text text-anchor=\"middle\" x=\"416.5\" y=\"-98.3\" font-family=\"Times,serif\" font-size=\"14.00\">d</text>\n<polyline fill=\"none\" stroke=\"black\" points=\"386.5,-90.5 446.5,-90.5 \"/>\n<text text-anchor=\"middle\" x=\"416.5\" y=\"-75.3\" font-family=\"Times,serif\" font-size=\"14.00\">data 4.0</text>\n<polyline fill=\"none\" stroke=\"black\" points=\"386.5,-67.5 446.5,-67.5 \"/>\n<text text-anchor=\"middle\" x=\"416.5\" y=\"-52.3\" font-family=\"Times,serif\" font-size=\"14.00\">grad 0</text>\n</g>\n<!-- 140282075141072&#45;&gt;140282075140640* -->\n<g id=\"edge4\" class=\"edge\">\n<title>140282075141072&#45;&gt;140282075140640*</title>\n<path fill=\"none\" stroke=\"black\" d=\"M446.57,-92.68C457.27,-97.71 469.41,-103.43 480.25,-108.53\"/>\n<polygon fill=\"black\" stroke=\"black\" points=\"478.84,-111.73 489.37,-112.82 481.82,-105.4 478.84,-111.73\"/>\n</g>\n<!-- 140282075141072+&#45;&gt;140282075141072 -->\n<g id=\"edge3\" class=\"edge\">\n<title>140282075141072+&#45;&gt;140282075141072</title>\n<path fill=\"none\" stroke=\"black\" d=\"M348.04,-79C356.77,-79 366.71,-79 376.23,-79\"/>\n<polygon fill=\"black\" stroke=\"black\" points=\"376.3,-82.5 386.3,-79 376.3,-75.5 376.3,-82.5\"/>\n</g>\n</g>\n</svg>\n"
          },
          "metadata": {},
          "execution_count": 46
        }
      ]
    },
    {
      "cell_type": "code",
      "source": [
        "# NN node example\n",
        "# Inputs\n",
        "x1 = Value(2.0, label=\"x1\")\n",
        "x2 = Value(0.0, label=\"x2\")\n",
        "\n",
        "# Weights\n",
        "w1 = Value(-3.0, label=\"w1\")\n",
        "w2 = Value(1.0, label=\"w2\")\n",
        "\n",
        "# Bias\n",
        "b = Value(6.8813, label=\"b\")\n",
        "\n",
        "x1w1 = x1*w1; x1w1.label=\"x1w1\"\n",
        "x2w2 = x2*w2; x2w2.label=\"x2w2\",\n",
        "x1w1x2w2 = x1w1 + x2w2; x1w1x2w2.label=\"x1w1 + x2w2\"\n",
        "n = x1w1x2w2 + b; n.label=\"n\"\n",
        "o = n.tanh(); o.label='o'\n",
        "o.backward()\n",
        "draw_dot(o)"
      ],
      "metadata": {
        "colab": {
          "base_uri": "https://localhost:8080/",
          "height": 497
        },
        "id": "U8LsozawxxDY",
        "outputId": "11f464ac-cb45-4b2f-b413-be44cf2a388b"
      },
      "execution_count": 85,
      "outputs": [
        {
          "output_type": "execute_result",
          "data": {
            "text/plain": [
              "<graphviz.dot.Digraph at 0x7f95f741d460>"
            ],
            "image/svg+xml": "<?xml version=\"1.0\" encoding=\"UTF-8\" standalone=\"no\"?>\n<!DOCTYPE svg PUBLIC \"-//W3C//DTD SVG 1.1//EN\"\n \"http://www.w3.org/Graphics/SVG/1.1/DTD/svg11.dtd\">\n<!-- Generated by graphviz version 2.43.0 (0)\n -->\n<!-- Title: %3 Pages: 1 -->\n<svg width=\"938pt\" height=\"342pt\"\n viewBox=\"0.00 0.00 938.00 342.00\" xmlns=\"http://www.w3.org/2000/svg\" xmlns:xlink=\"http://www.w3.org/1999/xlink\">\n<g id=\"graph0\" class=\"graph\" transform=\"scale(1 1) rotate(0) translate(4 338)\">\n<title>%3</title>\n<polygon fill=\"white\" stroke=\"transparent\" points=\"-4,4 -4,-338 934,-338 934,4 -4,4\"/>\n<!-- 140282075141120 -->\n<g id=\"node1\" class=\"node\">\n<title>140282075141120</title>\n<polygon fill=\"none\" stroke=\"black\" points=\"422,-132.5 422,-201.5 514,-201.5 514,-132.5 422,-132.5\"/>\n<text text-anchor=\"middle\" x=\"468\" y=\"-186.3\" font-family=\"Times,serif\" font-size=\"14.00\">x1w1 + x2w2</text>\n<polyline fill=\"none\" stroke=\"black\" points=\"422,-178.5 514,-178.5 \"/>\n<text text-anchor=\"middle\" x=\"468\" y=\"-163.3\" font-family=\"Times,serif\" font-size=\"14.00\">data &#45;6.0000</text>\n<polyline fill=\"none\" stroke=\"black\" points=\"422,-155.5 514,-155.5 \"/>\n<text text-anchor=\"middle\" x=\"468\" y=\"-140.3\" font-family=\"Times,serif\" font-size=\"14.00\">grad 0.5001</text>\n</g>\n<!-- 140282074604256+ -->\n<g id=\"node7\" class=\"node\">\n<title>140282074604256+</title>\n<ellipse fill=\"none\" stroke=\"black\" cx=\"577\" cy=\"-211\" rx=\"27\" ry=\"18\"/>\n<text text-anchor=\"middle\" x=\"577\" y=\"-207.3\" font-family=\"Times,serif\" font-size=\"14.00\">+</text>\n</g>\n<!-- 140282075141120&#45;&gt;140282074604256+ -->\n<g id=\"edge13\" class=\"edge\">\n<title>140282075141120&#45;&gt;140282074604256+</title>\n<path fill=\"none\" stroke=\"black\" d=\"M514.07,-185.53C524.24,-189.72 534.83,-194.07 544.32,-197.97\"/>\n<polygon fill=\"black\" stroke=\"black\" points=\"543.16,-201.28 553.74,-201.85 545.82,-194.81 543.16,-201.28\"/>\n</g>\n<!-- 140282075141120+ -->\n<g id=\"node2\" class=\"node\">\n<title>140282075141120+</title>\n<ellipse fill=\"none\" stroke=\"black\" cx=\"359\" cy=\"-167\" rx=\"27\" ry=\"18\"/>\n<text text-anchor=\"middle\" x=\"359\" y=\"-163.3\" font-family=\"Times,serif\" font-size=\"14.00\">+</text>\n</g>\n<!-- 140282075141120+&#45;&gt;140282075141120 -->\n<g id=\"edge1\" class=\"edge\">\n<title>140282075141120+&#45;&gt;140282075141120</title>\n<path fill=\"none\" stroke=\"black\" d=\"M386.18,-167C394,-167 402.88,-167 411.83,-167\"/>\n<polygon fill=\"black\" stroke=\"black\" points=\"411.91,-170.5 421.91,-167 411.91,-163.5 411.91,-170.5\"/>\n</g>\n<!-- 140282075792384 -->\n<g id=\"node3\" class=\"node\">\n<title>140282075792384</title>\n<polygon fill=\"none\" stroke=\"black\" points=\"0,-88.5 0,-157.5 85,-157.5 85,-88.5 0,-88.5\"/>\n<text text-anchor=\"middle\" x=\"42.5\" y=\"-142.3\" font-family=\"Times,serif\" font-size=\"14.00\">w1</text>\n<polyline fill=\"none\" stroke=\"black\" points=\"0,-134.5 85,-134.5 \"/>\n<text text-anchor=\"middle\" x=\"42.5\" y=\"-119.3\" font-family=\"Times,serif\" font-size=\"14.00\">data &#45;3.0000</text>\n<polyline fill=\"none\" stroke=\"black\" points=\"0,-111.5 85,-111.5 \"/>\n<text text-anchor=\"middle\" x=\"42.5\" y=\"-96.3\" font-family=\"Times,serif\" font-size=\"14.00\">grad 0.5001</text>\n</g>\n<!-- 140282075140976* -->\n<g id=\"node12\" class=\"node\">\n<title>140282075140976*</title>\n<ellipse fill=\"none\" stroke=\"black\" cx=\"148\" cy=\"-123\" rx=\"27\" ry=\"18\"/>\n<text text-anchor=\"middle\" x=\"148\" y=\"-119.3\" font-family=\"Times,serif\" font-size=\"14.00\">*</text>\n</g>\n<!-- 140282075792384&#45;&gt;140282075140976* -->\n<g id=\"edge10\" class=\"edge\">\n<title>140282075792384&#45;&gt;140282075140976*</title>\n<path fill=\"none\" stroke=\"black\" d=\"M85,-123C93.54,-123 102.47,-123 110.81,-123\"/>\n<polygon fill=\"black\" stroke=\"black\" points=\"110.97,-126.5 120.97,-123 110.97,-119.5 110.97,-126.5\"/>\n</g>\n<!-- 140282075140160 -->\n<g id=\"node4\" class=\"node\">\n<title>140282075140160</title>\n<polygon fill=\"none\" stroke=\"black\" points=\"212.5,-176.5 212.5,-245.5 294.5,-245.5 294.5,-176.5 212.5,-176.5\"/>\n<text text-anchor=\"middle\" x=\"253.5\" y=\"-230.3\" font-family=\"Times,serif\" font-size=\"14.00\">(&#39;x2w2&#39;,)</text>\n<polyline fill=\"none\" stroke=\"black\" points=\"212.5,-222.5 294.5,-222.5 \"/>\n<text text-anchor=\"middle\" x=\"253.5\" y=\"-207.3\" font-family=\"Times,serif\" font-size=\"14.00\">data 0.0000</text>\n<polyline fill=\"none\" stroke=\"black\" points=\"212.5,-199.5 294.5,-199.5 \"/>\n<text text-anchor=\"middle\" x=\"253.5\" y=\"-184.3\" font-family=\"Times,serif\" font-size=\"14.00\">grad 0.5001</text>\n</g>\n<!-- 140282075140160&#45;&gt;140282075141120+ -->\n<g id=\"edge14\" class=\"edge\">\n<title>140282075140160&#45;&gt;140282075141120+</title>\n<path fill=\"none\" stroke=\"black\" d=\"M294.52,-193.99C305.12,-189.48 316.42,-184.68 326.5,-180.39\"/>\n<polygon fill=\"black\" stroke=\"black\" points=\"327.9,-183.6 335.73,-176.47 325.16,-177.16 327.9,-183.6\"/>\n</g>\n<!-- 140282075140160* -->\n<g id=\"node5\" class=\"node\">\n<title>140282075140160*</title>\n<ellipse fill=\"none\" stroke=\"black\" cx=\"148\" cy=\"-211\" rx=\"27\" ry=\"18\"/>\n<text text-anchor=\"middle\" x=\"148\" y=\"-207.3\" font-family=\"Times,serif\" font-size=\"14.00\">*</text>\n</g>\n<!-- 140282075140160*&#45;&gt;140282075140160 -->\n<g id=\"edge2\" class=\"edge\">\n<title>140282075140160*&#45;&gt;140282075140160</title>\n<path fill=\"none\" stroke=\"black\" d=\"M175.12,-211C183.39,-211 192.82,-211 202.19,-211\"/>\n<polygon fill=\"black\" stroke=\"black\" points=\"202.28,-214.5 212.28,-211 202.28,-207.5 202.28,-214.5\"/>\n</g>\n<!-- 140282074604256 -->\n<g id=\"node6\" class=\"node\">\n<title>140282074604256</title>\n<polygon fill=\"none\" stroke=\"black\" points=\"640,-176.5 640,-245.5 722,-245.5 722,-176.5 640,-176.5\"/>\n<text text-anchor=\"middle\" x=\"681\" y=\"-230.3\" font-family=\"Times,serif\" font-size=\"14.00\">n</text>\n<polyline fill=\"none\" stroke=\"black\" points=\"640,-222.5 722,-222.5 \"/>\n<text text-anchor=\"middle\" x=\"681\" y=\"-207.3\" font-family=\"Times,serif\" font-size=\"14.00\">data 0.8813</text>\n<polyline fill=\"none\" stroke=\"black\" points=\"640,-199.5 722,-199.5 \"/>\n<text text-anchor=\"middle\" x=\"681\" y=\"-184.3\" font-family=\"Times,serif\" font-size=\"14.00\">grad 0.5001</text>\n</g>\n<!-- 140282074606032tanh -->\n<g id=\"node15\" class=\"node\">\n<title>140282074606032tanh</title>\n<ellipse fill=\"none\" stroke=\"black\" cx=\"785\" cy=\"-211\" rx=\"27\" ry=\"18\"/>\n<text text-anchor=\"middle\" x=\"785\" y=\"-207.3\" font-family=\"Times,serif\" font-size=\"14.00\">tanh</text>\n</g>\n<!-- 140282074604256&#45;&gt;140282074606032tanh -->\n<g id=\"edge8\" class=\"edge\">\n<title>140282074604256&#45;&gt;140282074606032tanh</title>\n<path fill=\"none\" stroke=\"black\" d=\"M722.02,-211C730.5,-211 739.4,-211 747.73,-211\"/>\n<polygon fill=\"black\" stroke=\"black\" points=\"747.89,-214.5 757.89,-211 747.89,-207.5 747.89,-214.5\"/>\n</g>\n<!-- 140282074604256+&#45;&gt;140282074604256 -->\n<g id=\"edge3\" class=\"edge\">\n<title>140282074604256+&#45;&gt;140282074604256</title>\n<path fill=\"none\" stroke=\"black\" d=\"M604,-211C611.81,-211 620.65,-211 629.48,-211\"/>\n<polygon fill=\"black\" stroke=\"black\" points=\"629.76,-214.5 639.76,-211 629.76,-207.5 629.76,-214.5\"/>\n</g>\n<!-- 140282075793680 -->\n<g id=\"node8\" class=\"node\">\n<title>140282075793680</title>\n<polygon fill=\"none\" stroke=\"black\" points=\"1.5,-0.5 1.5,-69.5 83.5,-69.5 83.5,-0.5 1.5,-0.5\"/>\n<text text-anchor=\"middle\" x=\"42.5\" y=\"-54.3\" font-family=\"Times,serif\" font-size=\"14.00\">x1</text>\n<polyline fill=\"none\" stroke=\"black\" points=\"1.5,-46.5 83.5,-46.5 \"/>\n<text text-anchor=\"middle\" x=\"42.5\" y=\"-31.3\" font-family=\"Times,serif\" font-size=\"14.00\">data 2.0000</text>\n<polyline fill=\"none\" stroke=\"black\" points=\"1.5,-23.5 83.5,-23.5 \"/>\n<text text-anchor=\"middle\" x=\"42.5\" y=\"-8.3\" font-family=\"Times,serif\" font-size=\"14.00\">grad 0.5001</text>\n</g>\n<!-- 140282075793680&#45;&gt;140282075140976* -->\n<g id=\"edge7\" class=\"edge\">\n<title>140282075793680&#45;&gt;140282075140976*</title>\n<path fill=\"none\" stroke=\"black\" d=\"M83.52,-69.02C96.83,-80.34 111.23,-92.59 122.95,-102.55\"/>\n<polygon fill=\"black\" stroke=\"black\" points=\"120.7,-105.23 130.59,-109.04 125.23,-99.9 120.7,-105.23\"/>\n</g>\n<!-- 140282075142416 -->\n<g id=\"node9\" class=\"node\">\n<title>140282075142416</title>\n<polygon fill=\"none\" stroke=\"black\" points=\"427,-220.5 427,-289.5 509,-289.5 509,-220.5 427,-220.5\"/>\n<text text-anchor=\"middle\" x=\"468\" y=\"-274.3\" font-family=\"Times,serif\" font-size=\"14.00\">b</text>\n<polyline fill=\"none\" stroke=\"black\" points=\"427,-266.5 509,-266.5 \"/>\n<text text-anchor=\"middle\" x=\"468\" y=\"-251.3\" font-family=\"Times,serif\" font-size=\"14.00\">data 6.8813</text>\n<polyline fill=\"none\" stroke=\"black\" points=\"427,-243.5 509,-243.5 \"/>\n<text text-anchor=\"middle\" x=\"468\" y=\"-228.3\" font-family=\"Times,serif\" font-size=\"14.00\">grad 0.5001</text>\n</g>\n<!-- 140282075142416&#45;&gt;140282074604256+ -->\n<g id=\"edge12\" class=\"edge\">\n<title>140282075142416&#45;&gt;140282074604256+</title>\n<path fill=\"none\" stroke=\"black\" d=\"M509.15,-238.49C520.8,-233.7 533.35,-228.54 544.4,-224\"/>\n<polygon fill=\"black\" stroke=\"black\" points=\"545.74,-227.23 553.66,-220.19 543.08,-220.75 545.74,-227.23\"/>\n</g>\n<!-- 140282075793728 -->\n<g id=\"node10\" class=\"node\">\n<title>140282075793728</title>\n<polygon fill=\"none\" stroke=\"black\" points=\"1.5,-264.5 1.5,-333.5 83.5,-333.5 83.5,-264.5 1.5,-264.5\"/>\n<text text-anchor=\"middle\" x=\"42.5\" y=\"-318.3\" font-family=\"Times,serif\" font-size=\"14.00\">w2</text>\n<polyline fill=\"none\" stroke=\"black\" points=\"1.5,-310.5 83.5,-310.5 \"/>\n<text text-anchor=\"middle\" x=\"42.5\" y=\"-295.3\" font-family=\"Times,serif\" font-size=\"14.00\">data 1.0000</text>\n<polyline fill=\"none\" stroke=\"black\" points=\"1.5,-287.5 83.5,-287.5 \"/>\n<text text-anchor=\"middle\" x=\"42.5\" y=\"-272.3\" font-family=\"Times,serif\" font-size=\"14.00\">grad 0.5001</text>\n</g>\n<!-- 140282075793728&#45;&gt;140282075140160* -->\n<g id=\"edge6\" class=\"edge\">\n<title>140282075793728&#45;&gt;140282075140160*</title>\n<path fill=\"none\" stroke=\"black\" d=\"M83.52,-264.98C96.83,-253.66 111.23,-241.41 122.95,-231.45\"/>\n<polygon fill=\"black\" stroke=\"black\" points=\"125.23,-234.1 130.59,-224.96 120.7,-228.77 125.23,-234.1\"/>\n</g>\n<!-- 140282075140976 -->\n<g id=\"node11\" class=\"node\">\n<title>140282075140976</title>\n<polygon fill=\"none\" stroke=\"black\" points=\"211,-88.5 211,-157.5 296,-157.5 296,-88.5 211,-88.5\"/>\n<text text-anchor=\"middle\" x=\"253.5\" y=\"-142.3\" font-family=\"Times,serif\" font-size=\"14.00\">x1w1</text>\n<polyline fill=\"none\" stroke=\"black\" points=\"211,-134.5 296,-134.5 \"/>\n<text text-anchor=\"middle\" x=\"253.5\" y=\"-119.3\" font-family=\"Times,serif\" font-size=\"14.00\">data &#45;6.0000</text>\n<polyline fill=\"none\" stroke=\"black\" points=\"211,-111.5 296,-111.5 \"/>\n<text text-anchor=\"middle\" x=\"253.5\" y=\"-96.3\" font-family=\"Times,serif\" font-size=\"14.00\">grad 0.5001</text>\n</g>\n<!-- 140282075140976&#45;&gt;140282075141120+ -->\n<g id=\"edge11\" class=\"edge\">\n<title>140282075140976&#45;&gt;140282075141120+</title>\n<path fill=\"none\" stroke=\"black\" d=\"M296,-140.64C306.21,-144.98 316.97,-149.56 326.61,-153.66\"/>\n<polygon fill=\"black\" stroke=\"black\" points=\"325.24,-156.88 335.81,-157.57 327.98,-150.44 325.24,-156.88\"/>\n</g>\n<!-- 140282075140976*&#45;&gt;140282075140976 -->\n<g id=\"edge4\" class=\"edge\">\n<title>140282075140976*&#45;&gt;140282075140976</title>\n<path fill=\"none\" stroke=\"black\" d=\"M175.12,-123C182.87,-123 191.64,-123 200.42,-123\"/>\n<polygon fill=\"black\" stroke=\"black\" points=\"200.68,-126.5 210.68,-123 200.68,-119.5 200.68,-126.5\"/>\n</g>\n<!-- 140282075795408 -->\n<g id=\"node13\" class=\"node\">\n<title>140282075795408</title>\n<polygon fill=\"none\" stroke=\"black\" points=\"1.5,-176.5 1.5,-245.5 83.5,-245.5 83.5,-176.5 1.5,-176.5\"/>\n<text text-anchor=\"middle\" x=\"42.5\" y=\"-230.3\" font-family=\"Times,serif\" font-size=\"14.00\">x2</text>\n<polyline fill=\"none\" stroke=\"black\" points=\"1.5,-222.5 83.5,-222.5 \"/>\n<text text-anchor=\"middle\" x=\"42.5\" y=\"-207.3\" font-family=\"Times,serif\" font-size=\"14.00\">data 0.0000</text>\n<polyline fill=\"none\" stroke=\"black\" points=\"1.5,-199.5 83.5,-199.5 \"/>\n<text text-anchor=\"middle\" x=\"42.5\" y=\"-184.3\" font-family=\"Times,serif\" font-size=\"14.00\">grad 0.5001</text>\n</g>\n<!-- 140282075795408&#45;&gt;140282075140160* -->\n<g id=\"edge9\" class=\"edge\">\n<title>140282075795408&#45;&gt;140282075140160*</title>\n<path fill=\"none\" stroke=\"black\" d=\"M83.52,-211C92.41,-211 101.8,-211 110.54,-211\"/>\n<polygon fill=\"black\" stroke=\"black\" points=\"110.82,-214.5 120.82,-211 110.82,-207.5 110.82,-214.5\"/>\n</g>\n<!-- 140282074606032 -->\n<g id=\"node14\" class=\"node\">\n<title>140282074606032</title>\n<polygon fill=\"none\" stroke=\"black\" points=\"848,-176.5 848,-245.5 930,-245.5 930,-176.5 848,-176.5\"/>\n<text text-anchor=\"middle\" x=\"889\" y=\"-230.3\" font-family=\"Times,serif\" font-size=\"14.00\">o</text>\n<polyline fill=\"none\" stroke=\"black\" points=\"848,-222.5 930,-222.5 \"/>\n<text text-anchor=\"middle\" x=\"889\" y=\"-207.3\" font-family=\"Times,serif\" font-size=\"14.00\">data 0.7071</text>\n<polyline fill=\"none\" stroke=\"black\" points=\"848,-199.5 930,-199.5 \"/>\n<text text-anchor=\"middle\" x=\"889\" y=\"-184.3\" font-family=\"Times,serif\" font-size=\"14.00\">grad 1.0000</text>\n</g>\n<!-- 140282074606032tanh&#45;&gt;140282074606032 -->\n<g id=\"edge5\" class=\"edge\">\n<title>140282074606032tanh&#45;&gt;140282074606032</title>\n<path fill=\"none\" stroke=\"black\" d=\"M812,-211C819.81,-211 828.65,-211 837.48,-211\"/>\n<polygon fill=\"black\" stroke=\"black\" points=\"837.76,-214.5 847.76,-211 837.76,-207.5 837.76,-214.5\"/>\n</g>\n</g>\n</svg>\n"
          },
          "metadata": {},
          "execution_count": 85
        }
      ]
    },
    {
      "cell_type": "code",
      "source": [
        "# NN node example\n",
        "# Inputs\n",
        "x1 = Value(2.0, label=\"x1\")\n",
        "x2 = Value(0.0, label=\"x2\")\n",
        "\n",
        "# Weights\n",
        "w1 = Value(-3.0, label=\"w1\")\n",
        "w2 = Value(1.0, label=\"w2\")\n",
        "\n",
        "# Bias\n",
        "b = Value(6.8813, label=\"b\")\n",
        "\n",
        "x1w1 = x1*w1; x1w1.label=\"x1w1\"\n",
        "x2w2 = x2*w2; x2w2.label=\"x2w2\",\n",
        "x1w1x2w2 = x1w1 + x2w2; x1w1x2w2.label=\"x1w1 + x2w2\"\n",
        "n = x1w1x2w2 + b; n.label=\"n\"\n",
        "\n",
        "e = (2*n).exp(); e.label='e'\n",
        "o = (e-1)/(e+1); o.label='o'\n",
        "o.backward()\n",
        "draw_dot(o)"
      ],
      "metadata": {
        "colab": {
          "base_uri": "https://localhost:8080/",
          "height": 556
        },
        "id": "qT9RG6mk6qLI",
        "outputId": "8b63d47a-3081-405f-ba36-f844ce2405d0"
      },
      "execution_count": 92,
      "outputs": [
        {
          "output_type": "execute_result",
          "data": {
            "text/plain": [
              "<graphviz.dot.Digraph at 0x7f95f7248340>"
            ],
            "image/svg+xml": "<?xml version=\"1.0\" encoding=\"UTF-8\" standalone=\"no\"?>\n<!DOCTYPE svg PUBLIC \"-//W3C//DTD SVG 1.1//EN\"\n \"http://www.w3.org/Graphics/SVG/1.1/DTD/svg11.dtd\">\n<!-- Generated by graphviz version 2.43.0 (0)\n -->\n<!-- Title: %3 Pages: 1 -->\n<svg width=\"1807pt\" height=\"386pt\"\n viewBox=\"0.00 0.00 1807.00 386.00\" xmlns=\"http://www.w3.org/2000/svg\" xmlns:xlink=\"http://www.w3.org/1999/xlink\">\n<g id=\"graph0\" class=\"graph\" transform=\"scale(1 1) rotate(0) translate(4 382)\">\n<title>%3</title>\n<polygon fill=\"white\" stroke=\"transparent\" points=\"-4,4 -4,-382 1803,-382 1803,4 -4,4\"/>\n<!-- 140282073219616 -->\n<g id=\"node1\" class=\"node\">\n<title>140282073219616</title>\n<polygon fill=\"none\" stroke=\"black\" points=\"0.5,-308.5 0.5,-377.5 85.5,-377.5 85.5,-308.5 0.5,-308.5\"/>\n<text text-anchor=\"middle\" x=\"43\" y=\"-362.3\" font-family=\"Times,serif\" font-size=\"14.00\">w1</text>\n<polyline fill=\"none\" stroke=\"black\" points=\"0.5,-354.5 85.5,-354.5 \"/>\n<text text-anchor=\"middle\" x=\"43\" y=\"-339.3\" font-family=\"Times,serif\" font-size=\"14.00\">data &#45;3.0000</text>\n<polyline fill=\"none\" stroke=\"black\" points=\"0.5,-331.5 85.5,-331.5 \"/>\n<text text-anchor=\"middle\" x=\"43\" y=\"-316.3\" font-family=\"Times,serif\" font-size=\"14.00\">grad 1.0001</text>\n</g>\n<!-- 140282073220576* -->\n<g id=\"node23\" class=\"node\">\n<title>140282073220576*</title>\n<ellipse fill=\"none\" stroke=\"black\" cx=\"149\" cy=\"-255\" rx=\"27\" ry=\"18\"/>\n<text text-anchor=\"middle\" x=\"149\" y=\"-251.3\" font-family=\"Times,serif\" font-size=\"14.00\">*</text>\n</g>\n<!-- 140282073219616&#45;&gt;140282073220576* -->\n<g id=\"edge25\" class=\"edge\">\n<title>140282073219616&#45;&gt;140282073220576*</title>\n<path fill=\"none\" stroke=\"black\" d=\"M84.81,-308.47C97.9,-297.39 111.99,-285.47 123.54,-275.7\"/>\n<polygon fill=\"black\" stroke=\"black\" points=\"126.07,-278.14 131.44,-269.01 121.55,-272.8 126.07,-278.14\"/>\n</g>\n<!-- 140282075141168 -->\n<g id=\"node2\" class=\"node\">\n<title>140282075141168</title>\n<polygon fill=\"none\" stroke=\"black\" points=\"641,-44.5 641,-113.5 723,-113.5 723,-44.5 641,-44.5\"/>\n<text text-anchor=\"middle\" x=\"682\" y=\"-98.3\" font-family=\"Times,serif\" font-size=\"14.00\"> </text>\n<polyline fill=\"none\" stroke=\"black\" points=\"641,-90.5 723,-90.5 \"/>\n<text text-anchor=\"middle\" x=\"682\" y=\"-75.3\" font-family=\"Times,serif\" font-size=\"14.00\">data 2.0000</text>\n<polyline fill=\"none\" stroke=\"black\" points=\"641,-67.5 723,-67.5 \"/>\n<text text-anchor=\"middle\" x=\"682\" y=\"-52.3\" font-family=\"Times,serif\" font-size=\"14.00\">grad 0.2203</text>\n</g>\n<!-- 140282075143040* -->\n<g id=\"node21\" class=\"node\">\n<title>140282075143040*</title>\n<ellipse fill=\"none\" stroke=\"black\" cx=\"786\" cy=\"-123\" rx=\"27\" ry=\"18\"/>\n<text text-anchor=\"middle\" x=\"786\" y=\"-119.3\" font-family=\"Times,serif\" font-size=\"14.00\">*</text>\n</g>\n<!-- 140282075141168&#45;&gt;140282075143040* -->\n<g id=\"edge18\" class=\"edge\">\n<title>140282075141168&#45;&gt;140282075143040*</title>\n<path fill=\"none\" stroke=\"black\" d=\"M723.02,-96.26C733.23,-100.67 744.06,-105.34 753.77,-109.53\"/>\n<polygon fill=\"black\" stroke=\"black\" points=\"752.46,-112.77 763.03,-113.52 755.23,-106.35 752.46,-112.77\"/>\n</g>\n<!-- 140282073772096 -->\n<g id=\"node3\" class=\"node\">\n<title>140282073772096</title>\n<polygon fill=\"none\" stroke=\"black\" points=\"1391,-123.5 1391,-192.5 1473,-192.5 1473,-123.5 1391,-123.5\"/>\n<text text-anchor=\"middle\" x=\"1432\" y=\"-177.3\" font-family=\"Times,serif\" font-size=\"14.00\"> </text>\n<polyline fill=\"none\" stroke=\"black\" points=\"1391,-169.5 1473,-169.5 \"/>\n<text text-anchor=\"middle\" x=\"1432\" y=\"-154.3\" font-family=\"Times,serif\" font-size=\"14.00\">data 4.8276</text>\n<polyline fill=\"none\" stroke=\"black\" points=\"1391,-146.5 1473,-146.5 \"/>\n<text text-anchor=\"middle\" x=\"1432\" y=\"-131.3\" font-family=\"Times,serif\" font-size=\"14.00\">grad 0.1465</text>\n</g>\n<!-- 140282073775888* -->\n<g id=\"node12\" class=\"node\">\n<title>140282073775888*</title>\n<ellipse fill=\"none\" stroke=\"black\" cx=\"1654\" cy=\"-122\" rx=\"27\" ry=\"18\"/>\n<text text-anchor=\"middle\" x=\"1654\" y=\"-118.3\" font-family=\"Times,serif\" font-size=\"14.00\">*</text>\n</g>\n<!-- 140282073772096&#45;&gt;140282073775888* -->\n<g id=\"edge20\" class=\"edge\">\n<title>140282073772096&#45;&gt;140282073775888*</title>\n<path fill=\"none\" stroke=\"black\" d=\"M1473.05,-152.87C1505.05,-148.6 1551.02,-142.1 1591,-135 1599.8,-133.44 1609.25,-131.56 1618.06,-129.72\"/>\n<polygon fill=\"black\" stroke=\"black\" points=\"1618.98,-133.11 1628.03,-127.6 1617.52,-126.26 1618.98,-133.11\"/>\n</g>\n<!-- 140282073772096+ -->\n<g id=\"node4\" class=\"node\">\n<title>140282073772096+</title>\n<ellipse fill=\"none\" stroke=\"black\" cx=\"1206\" cy=\"-158\" rx=\"27\" ry=\"18\"/>\n<text text-anchor=\"middle\" x=\"1206\" y=\"-154.3\" font-family=\"Times,serif\" font-size=\"14.00\">+</text>\n</g>\n<!-- 140282073772096+&#45;&gt;140282073772096 -->\n<g id=\"edge1\" class=\"edge\">\n<title>140282073772096+&#45;&gt;140282073772096</title>\n<path fill=\"none\" stroke=\"black\" d=\"M1233.13,-158C1269.18,-158 1334.9,-158 1380.66,-158\"/>\n<polygon fill=\"black\" stroke=\"black\" points=\"1380.68,-161.5 1390.68,-158 1380.68,-154.5 1380.68,-161.5\"/>\n</g>\n<!-- 140282073219136 -->\n<g id=\"node5\" class=\"node\">\n<title>140282073219136</title>\n<polygon fill=\"none\" stroke=\"black\" points=\"428,-88.5 428,-157.5 510,-157.5 510,-88.5 428,-88.5\"/>\n<text text-anchor=\"middle\" x=\"469\" y=\"-142.3\" font-family=\"Times,serif\" font-size=\"14.00\">b</text>\n<polyline fill=\"none\" stroke=\"black\" points=\"428,-134.5 510,-134.5 \"/>\n<text text-anchor=\"middle\" x=\"469\" y=\"-119.3\" font-family=\"Times,serif\" font-size=\"14.00\">data 6.8813</text>\n<polyline fill=\"none\" stroke=\"black\" points=\"428,-111.5 510,-111.5 \"/>\n<text text-anchor=\"middle\" x=\"469\" y=\"-96.3\" font-family=\"Times,serif\" font-size=\"14.00\">grad 0.5001</text>\n</g>\n<!-- 140282075140976+ -->\n<g id=\"node19\" class=\"node\">\n<title>140282075140976+</title>\n<ellipse fill=\"none\" stroke=\"black\" cx=\"578\" cy=\"-167\" rx=\"27\" ry=\"18\"/>\n<text text-anchor=\"middle\" x=\"578\" y=\"-163.3\" font-family=\"Times,serif\" font-size=\"14.00\">+</text>\n</g>\n<!-- 140282073219136&#45;&gt;140282075140976+ -->\n<g id=\"edge26\" class=\"edge\">\n<title>140282073219136&#45;&gt;140282075140976+</title>\n<path fill=\"none\" stroke=\"black\" d=\"M510.15,-139.51C521.8,-144.3 534.35,-149.46 545.4,-154\"/>\n<polygon fill=\"black\" stroke=\"black\" points=\"544.08,-157.25 554.66,-157.81 546.74,-150.77 544.08,-157.25\"/>\n</g>\n<!-- 140282073774688 -->\n<g id=\"node6\" class=\"node\">\n<title>140282073774688</title>\n<polygon fill=\"none\" stroke=\"black\" points=\"1509,-56.5 1509,-125.5 1591,-125.5 1591,-56.5 1509,-56.5\"/>\n<text text-anchor=\"middle\" x=\"1550\" y=\"-110.3\" font-family=\"Times,serif\" font-size=\"14.00\"> </text>\n<polyline fill=\"none\" stroke=\"black\" points=\"1509,-102.5 1591,-102.5 \"/>\n<text text-anchor=\"middle\" x=\"1550\" y=\"-87.3\" font-family=\"Times,serif\" font-size=\"14.00\">data 0.1465</text>\n<polyline fill=\"none\" stroke=\"black\" points=\"1509,-79.5 1591,-79.5 \"/>\n<text text-anchor=\"middle\" x=\"1550\" y=\"-64.3\" font-family=\"Times,serif\" font-size=\"14.00\">grad 4.8276</text>\n</g>\n<!-- 140282073774688&#45;&gt;140282073775888* -->\n<g id=\"edge15\" class=\"edge\">\n<title>140282073774688&#45;&gt;140282073775888*</title>\n<path fill=\"none\" stroke=\"black\" d=\"M1591.02,-103.16C1600.35,-106 1610.19,-108.99 1619.21,-111.73\"/>\n<polygon fill=\"black\" stroke=\"black\" points=\"1618.4,-115.14 1628.99,-114.7 1620.44,-108.45 1618.4,-115.14\"/>\n</g>\n<!-- 140282073774688**&#45;1 -->\n<g id=\"node7\" class=\"node\">\n<title>140282073774688**&#45;1</title>\n<ellipse fill=\"none\" stroke=\"black\" cx=\"1432\" cy=\"-87\" rx=\"27\" ry=\"18\"/>\n<text text-anchor=\"middle\" x=\"1432\" y=\"-83.3\" font-family=\"Times,serif\" font-size=\"14.00\">**&#45;1</text>\n</g>\n<!-- 140282073774688**&#45;1&#45;&gt;140282073774688 -->\n<g id=\"edge2\" class=\"edge\">\n<title>140282073774688**&#45;1&#45;&gt;140282073774688</title>\n<path fill=\"none\" stroke=\"black\" d=\"M1459.03,-87.9C1470.74,-88.3 1484.98,-88.79 1498.65,-89.26\"/>\n<polygon fill=\"black\" stroke=\"black\" points=\"1498.81,-92.77 1508.93,-89.62 1499.06,-85.78 1498.81,-92.77\"/>\n</g>\n<!-- 140282073773680 -->\n<g id=\"node8\" class=\"node\">\n<title>140282073773680</title>\n<polygon fill=\"none\" stroke=\"black\" points=\"1057,-0.5 1057,-69.5 1143,-69.5 1143,-0.5 1057,-0.5\"/>\n<text text-anchor=\"middle\" x=\"1100\" y=\"-54.3\" font-family=\"Times,serif\" font-size=\"14.00\"> </text>\n<polyline fill=\"none\" stroke=\"black\" points=\"1057,-46.5 1143,-46.5 \"/>\n<text text-anchor=\"middle\" x=\"1100\" y=\"-31.3\" font-family=\"Times,serif\" font-size=\"14.00\">data 1.0000</text>\n<polyline fill=\"none\" stroke=\"black\" points=\"1057,-23.5 1143,-23.5 \"/>\n<text text-anchor=\"middle\" x=\"1100\" y=\"-8.3\" font-family=\"Times,serif\" font-size=\"14.00\">grad &#45;0.1036</text>\n</g>\n<!-- 140282073774832+ -->\n<g id=\"node10\" class=\"node\">\n<title>140282073774832+</title>\n<ellipse fill=\"none\" stroke=\"black\" cx=\"1206\" cy=\"-87\" rx=\"27\" ry=\"18\"/>\n<text text-anchor=\"middle\" x=\"1206\" y=\"-83.3\" font-family=\"Times,serif\" font-size=\"14.00\">+</text>\n</g>\n<!-- 140282073773680&#45;&gt;140282073774832+ -->\n<g id=\"edge12\" class=\"edge\">\n<title>140282073773680&#45;&gt;140282073774832+</title>\n<path fill=\"none\" stroke=\"black\" d=\"M1143,-56C1153.68,-61.34 1164.95,-66.97 1174.9,-71.95\"/>\n<polygon fill=\"black\" stroke=\"black\" points=\"1173.47,-75.15 1183.98,-76.49 1176.6,-68.89 1173.47,-75.15\"/>\n</g>\n<!-- 140282073774832 -->\n<g id=\"node9\" class=\"node\">\n<title>140282073774832</title>\n<polygon fill=\"none\" stroke=\"black\" points=\"1269,-52.5 1269,-121.5 1355,-121.5 1355,-52.5 1269,-52.5\"/>\n<text text-anchor=\"middle\" x=\"1312\" y=\"-106.3\" font-family=\"Times,serif\" font-size=\"14.00\"> </text>\n<polyline fill=\"none\" stroke=\"black\" points=\"1269,-98.5 1355,-98.5 \"/>\n<text text-anchor=\"middle\" x=\"1312\" y=\"-83.3\" font-family=\"Times,serif\" font-size=\"14.00\">data 6.8276</text>\n<polyline fill=\"none\" stroke=\"black\" points=\"1269,-75.5 1355,-75.5 \"/>\n<text text-anchor=\"middle\" x=\"1312\" y=\"-60.3\" font-family=\"Times,serif\" font-size=\"14.00\">grad &#45;0.1036</text>\n</g>\n<!-- 140282073774832&#45;&gt;140282073774688**&#45;1 -->\n<g id=\"edge28\" class=\"edge\">\n<title>140282073774832&#45;&gt;140282073774688**&#45;1</title>\n<path fill=\"none\" stroke=\"black\" d=\"M1355.27,-87C1368.18,-87 1382.27,-87 1394.75,-87\"/>\n<polygon fill=\"black\" stroke=\"black\" points=\"1394.79,-90.5 1404.79,-87 1394.79,-83.5 1394.79,-90.5\"/>\n</g>\n<!-- 140282073774832+&#45;&gt;140282073774832 -->\n<g id=\"edge3\" class=\"edge\">\n<title>140282073774832+&#45;&gt;140282073774832</title>\n<path fill=\"none\" stroke=\"black\" d=\"M1233.24,-87C1241.11,-87 1250.04,-87 1258.96,-87\"/>\n<polygon fill=\"black\" stroke=\"black\" points=\"1258.98,-90.5 1268.98,-87 1258.98,-83.5 1258.98,-90.5\"/>\n</g>\n<!-- 140282073775888 -->\n<g id=\"node11\" class=\"node\">\n<title>140282073775888</title>\n<polygon fill=\"none\" stroke=\"black\" points=\"1717,-87.5 1717,-156.5 1799,-156.5 1799,-87.5 1717,-87.5\"/>\n<text text-anchor=\"middle\" x=\"1758\" y=\"-141.3\" font-family=\"Times,serif\" font-size=\"14.00\">o</text>\n<polyline fill=\"none\" stroke=\"black\" points=\"1717,-133.5 1799,-133.5 \"/>\n<text text-anchor=\"middle\" x=\"1758\" y=\"-118.3\" font-family=\"Times,serif\" font-size=\"14.00\">data 0.7071</text>\n<polyline fill=\"none\" stroke=\"black\" points=\"1717,-110.5 1799,-110.5 \"/>\n<text text-anchor=\"middle\" x=\"1758\" y=\"-95.3\" font-family=\"Times,serif\" font-size=\"14.00\">grad 1.0000</text>\n</g>\n<!-- 140282073775888*&#45;&gt;140282073775888 -->\n<g id=\"edge4\" class=\"edge\">\n<title>140282073775888*&#45;&gt;140282073775888</title>\n<path fill=\"none\" stroke=\"black\" d=\"M1681,-122C1688.81,-122 1697.65,-122 1706.48,-122\"/>\n<polygon fill=\"black\" stroke=\"black\" points=\"1706.76,-125.5 1716.76,-122 1706.76,-118.5 1706.76,-125.5\"/>\n</g>\n<!-- 140282073219856 -->\n<g id=\"node13\" class=\"node\">\n<title>140282073219856</title>\n<polygon fill=\"none\" stroke=\"black\" points=\"0,-220.5 0,-289.5 86,-289.5 86,-220.5 0,-220.5\"/>\n<text text-anchor=\"middle\" x=\"43\" y=\"-274.3\" font-family=\"Times,serif\" font-size=\"14.00\">x1</text>\n<polyline fill=\"none\" stroke=\"black\" points=\"0,-266.5 86,-266.5 \"/>\n<text text-anchor=\"middle\" x=\"43\" y=\"-251.3\" font-family=\"Times,serif\" font-size=\"14.00\">data 2.0000</text>\n<polyline fill=\"none\" stroke=\"black\" points=\"0,-243.5 86,-243.5 \"/>\n<text text-anchor=\"middle\" x=\"43\" y=\"-228.3\" font-family=\"Times,serif\" font-size=\"14.00\">grad &#45;1.5002</text>\n</g>\n<!-- 140282073219856&#45;&gt;140282073220576* -->\n<g id=\"edge17\" class=\"edge\">\n<title>140282073219856&#45;&gt;140282073220576*</title>\n<path fill=\"none\" stroke=\"black\" d=\"M86,-255C94.48,-255 103.34,-255 111.61,-255\"/>\n<polygon fill=\"black\" stroke=\"black\" points=\"111.7,-258.5 121.7,-255 111.7,-251.5 111.7,-258.5\"/>\n</g>\n<!-- 140282073219376 -->\n<g id=\"node14\" class=\"node\">\n<title>140282073219376</title>\n<polygon fill=\"none\" stroke=\"black\" points=\"2,-132.5 2,-201.5 84,-201.5 84,-132.5 2,-132.5\"/>\n<text text-anchor=\"middle\" x=\"43\" y=\"-186.3\" font-family=\"Times,serif\" font-size=\"14.00\">w2</text>\n<polyline fill=\"none\" stroke=\"black\" points=\"2,-178.5 84,-178.5 \"/>\n<text text-anchor=\"middle\" x=\"43\" y=\"-163.3\" font-family=\"Times,serif\" font-size=\"14.00\">data 1.0000</text>\n<polyline fill=\"none\" stroke=\"black\" points=\"2,-155.5 84,-155.5 \"/>\n<text text-anchor=\"middle\" x=\"43\" y=\"-140.3\" font-family=\"Times,serif\" font-size=\"14.00\">grad 0.0000</text>\n</g>\n<!-- 140282073222016* -->\n<g id=\"node28\" class=\"node\">\n<title>140282073222016*</title>\n<ellipse fill=\"none\" stroke=\"black\" cx=\"149\" cy=\"-167\" rx=\"27\" ry=\"18\"/>\n<text text-anchor=\"middle\" x=\"149\" y=\"-163.3\" font-family=\"Times,serif\" font-size=\"14.00\">*</text>\n</g>\n<!-- 140282073219376&#45;&gt;140282073222016* -->\n<g id=\"edge22\" class=\"edge\">\n<title>140282073219376&#45;&gt;140282073222016*</title>\n<path fill=\"none\" stroke=\"black\" d=\"M84.21,-167C93.25,-167 102.79,-167 111.66,-167\"/>\n<polygon fill=\"black\" stroke=\"black\" points=\"111.69,-170.5 121.69,-167 111.69,-163.5 111.69,-170.5\"/>\n</g>\n<!-- 140282075140928 -->\n<g id=\"node15\" class=\"node\">\n<title>140282075140928</title>\n<polygon fill=\"none\" stroke=\"black\" points=\"1059,-88.5 1059,-157.5 1141,-157.5 1141,-88.5 1059,-88.5\"/>\n<text text-anchor=\"middle\" x=\"1100\" y=\"-142.3\" font-family=\"Times,serif\" font-size=\"14.00\">e</text>\n<polyline fill=\"none\" stroke=\"black\" points=\"1059,-134.5 1141,-134.5 \"/>\n<text text-anchor=\"middle\" x=\"1100\" y=\"-119.3\" font-family=\"Times,serif\" font-size=\"14.00\">data 5.8276</text>\n<polyline fill=\"none\" stroke=\"black\" points=\"1059,-111.5 1141,-111.5 \"/>\n<text text-anchor=\"middle\" x=\"1100\" y=\"-96.3\" font-family=\"Times,serif\" font-size=\"14.00\">grad 0.0429</text>\n</g>\n<!-- 140282075140928&#45;&gt;140282073772096+ -->\n<g id=\"edge19\" class=\"edge\">\n<title>140282075140928&#45;&gt;140282073772096+</title>\n<path fill=\"none\" stroke=\"black\" d=\"M1141.21,-136.53C1151.31,-139.93 1162.03,-143.54 1171.74,-146.81\"/>\n<polygon fill=\"black\" stroke=\"black\" points=\"1170.84,-150.2 1181.43,-150.07 1173.07,-143.56 1170.84,-150.2\"/>\n</g>\n<!-- 140282075140928&#45;&gt;140282073774832+ -->\n<g id=\"edge14\" class=\"edge\">\n<title>140282075140928&#45;&gt;140282073774832+</title>\n<path fill=\"none\" stroke=\"black\" d=\"M1141.21,-109.08C1151.39,-105.56 1162.21,-101.81 1171.99,-98.43\"/>\n<polygon fill=\"black\" stroke=\"black\" points=\"1173.43,-101.63 1181.73,-95.05 1171.14,-95.02 1173.43,-101.63\"/>\n</g>\n<!-- 140282075140928exp -->\n<g id=\"node16\" class=\"node\">\n<title>140282075140928exp</title>\n<ellipse fill=\"none\" stroke=\"black\" cx=\"994\" cy=\"-123\" rx=\"27\" ry=\"18\"/>\n<text text-anchor=\"middle\" x=\"994\" y=\"-119.3\" font-family=\"Times,serif\" font-size=\"14.00\">exp</text>\n</g>\n<!-- 140282075140928exp&#45;&gt;140282075140928 -->\n<g id=\"edge5\" class=\"edge\">\n<title>140282075140928exp&#45;&gt;140282075140928</title>\n<path fill=\"none\" stroke=\"black\" d=\"M1021.24,-123C1029.64,-123 1039.23,-123 1048.75,-123\"/>\n<polygon fill=\"black\" stroke=\"black\" points=\"1048.99,-126.5 1058.99,-123 1048.99,-119.5 1048.99,-126.5\"/>\n</g>\n<!-- 140282073222976 -->\n<g id=\"node17\" class=\"node\">\n<title>140282073222976</title>\n<polygon fill=\"none\" stroke=\"black\" points=\"2,-44.5 2,-113.5 84,-113.5 84,-44.5 2,-44.5\"/>\n<text text-anchor=\"middle\" x=\"43\" y=\"-98.3\" font-family=\"Times,serif\" font-size=\"14.00\">x2</text>\n<polyline fill=\"none\" stroke=\"black\" points=\"2,-90.5 84,-90.5 \"/>\n<text text-anchor=\"middle\" x=\"43\" y=\"-75.3\" font-family=\"Times,serif\" font-size=\"14.00\">data 0.0000</text>\n<polyline fill=\"none\" stroke=\"black\" points=\"2,-67.5 84,-67.5 \"/>\n<text text-anchor=\"middle\" x=\"43\" y=\"-52.3\" font-family=\"Times,serif\" font-size=\"14.00\">grad 0.5001</text>\n</g>\n<!-- 140282073222976&#45;&gt;140282073222016* -->\n<g id=\"edge24\" class=\"edge\">\n<title>140282073222976&#45;&gt;140282073222016*</title>\n<path fill=\"none\" stroke=\"black\" d=\"M84.21,-113.02C97.58,-124.34 112.06,-136.59 123.83,-146.55\"/>\n<polygon fill=\"black\" stroke=\"black\" points=\"121.61,-149.26 131.51,-153.04 126.13,-143.91 121.61,-149.26\"/>\n</g>\n<!-- 140282075140976 -->\n<g id=\"node18\" class=\"node\">\n<title>140282075140976</title>\n<polygon fill=\"none\" stroke=\"black\" points=\"641,-132.5 641,-201.5 723,-201.5 723,-132.5 641,-132.5\"/>\n<text text-anchor=\"middle\" x=\"682\" y=\"-186.3\" font-family=\"Times,serif\" font-size=\"14.00\">n</text>\n<polyline fill=\"none\" stroke=\"black\" points=\"641,-178.5 723,-178.5 \"/>\n<text text-anchor=\"middle\" x=\"682\" y=\"-163.3\" font-family=\"Times,serif\" font-size=\"14.00\">data 0.8813</text>\n<polyline fill=\"none\" stroke=\"black\" points=\"641,-155.5 723,-155.5 \"/>\n<text text-anchor=\"middle\" x=\"682\" y=\"-140.3\" font-family=\"Times,serif\" font-size=\"14.00\">grad 0.5001</text>\n</g>\n<!-- 140282075140976&#45;&gt;140282075143040* -->\n<g id=\"edge16\" class=\"edge\">\n<title>140282075140976&#45;&gt;140282075143040*</title>\n<path fill=\"none\" stroke=\"black\" d=\"M723.02,-149.74C733.23,-145.33 744.06,-140.66 753.77,-136.47\"/>\n<polygon fill=\"black\" stroke=\"black\" points=\"755.23,-139.65 763.03,-132.48 752.46,-133.23 755.23,-139.65\"/>\n</g>\n<!-- 140282075140976+&#45;&gt;140282075140976 -->\n<g id=\"edge6\" class=\"edge\">\n<title>140282075140976+&#45;&gt;140282075140976</title>\n<path fill=\"none\" stroke=\"black\" d=\"M605,-167C612.81,-167 621.65,-167 630.48,-167\"/>\n<polygon fill=\"black\" stroke=\"black\" points=\"630.76,-170.5 640.76,-167 630.76,-163.5 630.76,-170.5\"/>\n</g>\n<!-- 140282075143040 -->\n<g id=\"node20\" class=\"node\">\n<title>140282075143040</title>\n<polygon fill=\"none\" stroke=\"black\" points=\"849,-88.5 849,-157.5 931,-157.5 931,-88.5 849,-88.5\"/>\n<text text-anchor=\"middle\" x=\"890\" y=\"-142.3\" font-family=\"Times,serif\" font-size=\"14.00\"> </text>\n<polyline fill=\"none\" stroke=\"black\" points=\"849,-134.5 931,-134.5 \"/>\n<text text-anchor=\"middle\" x=\"890\" y=\"-119.3\" font-family=\"Times,serif\" font-size=\"14.00\">data 1.7626</text>\n<polyline fill=\"none\" stroke=\"black\" points=\"849,-111.5 931,-111.5 \"/>\n<text text-anchor=\"middle\" x=\"890\" y=\"-96.3\" font-family=\"Times,serif\" font-size=\"14.00\">grad 0.2500</text>\n</g>\n<!-- 140282075143040&#45;&gt;140282075140928exp -->\n<g id=\"edge23\" class=\"edge\">\n<title>140282075143040&#45;&gt;140282075140928exp</title>\n<path fill=\"none\" stroke=\"black\" d=\"M931.02,-123C939.5,-123 948.4,-123 956.73,-123\"/>\n<polygon fill=\"black\" stroke=\"black\" points=\"956.89,-126.5 966.89,-123 956.89,-119.5 956.89,-126.5\"/>\n</g>\n<!-- 140282075143040*&#45;&gt;140282075143040 -->\n<g id=\"edge7\" class=\"edge\">\n<title>140282075143040*&#45;&gt;140282075143040</title>\n<path fill=\"none\" stroke=\"black\" d=\"M813,-123C820.81,-123 829.65,-123 838.48,-123\"/>\n<polygon fill=\"black\" stroke=\"black\" points=\"838.76,-126.5 848.76,-123 838.76,-119.5 838.76,-126.5\"/>\n</g>\n<!-- 140282073220576 -->\n<g id=\"node22\" class=\"node\">\n<title>140282073220576</title>\n<polygon fill=\"none\" stroke=\"black\" points=\"212,-220.5 212,-289.5 297,-289.5 297,-220.5 212,-220.5\"/>\n<text text-anchor=\"middle\" x=\"254.5\" y=\"-274.3\" font-family=\"Times,serif\" font-size=\"14.00\">x1w1</text>\n<polyline fill=\"none\" stroke=\"black\" points=\"212,-266.5 297,-266.5 \"/>\n<text text-anchor=\"middle\" x=\"254.5\" y=\"-251.3\" font-family=\"Times,serif\" font-size=\"14.00\">data &#45;6.0000</text>\n<polyline fill=\"none\" stroke=\"black\" points=\"212,-243.5 297,-243.5 \"/>\n<text text-anchor=\"middle\" x=\"254.5\" y=\"-228.3\" font-family=\"Times,serif\" font-size=\"14.00\">grad 0.5001</text>\n</g>\n<!-- 140282073223072+ -->\n<g id=\"node25\" class=\"node\">\n<title>140282073223072+</title>\n<ellipse fill=\"none\" stroke=\"black\" cx=\"360\" cy=\"-211\" rx=\"27\" ry=\"18\"/>\n<text text-anchor=\"middle\" x=\"360\" y=\"-207.3\" font-family=\"Times,serif\" font-size=\"14.00\">+</text>\n</g>\n<!-- 140282073220576&#45;&gt;140282073223072+ -->\n<g id=\"edge11\" class=\"edge\">\n<title>140282073220576&#45;&gt;140282073223072+</title>\n<path fill=\"none\" stroke=\"black\" d=\"M297,-237.36C307.21,-233.02 317.97,-228.44 327.61,-224.34\"/>\n<polygon fill=\"black\" stroke=\"black\" points=\"328.98,-227.56 336.81,-220.43 326.24,-221.12 328.98,-227.56\"/>\n</g>\n<!-- 140282073220576*&#45;&gt;140282073220576 -->\n<g id=\"edge8\" class=\"edge\">\n<title>140282073220576*&#45;&gt;140282073220576</title>\n<path fill=\"none\" stroke=\"black\" d=\"M176.12,-255C183.87,-255 192.64,-255 201.42,-255\"/>\n<polygon fill=\"black\" stroke=\"black\" points=\"201.68,-258.5 211.68,-255 201.68,-251.5 201.68,-258.5\"/>\n</g>\n<!-- 140282073223072 -->\n<g id=\"node24\" class=\"node\">\n<title>140282073223072</title>\n<polygon fill=\"none\" stroke=\"black\" points=\"423,-176.5 423,-245.5 515,-245.5 515,-176.5 423,-176.5\"/>\n<text text-anchor=\"middle\" x=\"469\" y=\"-230.3\" font-family=\"Times,serif\" font-size=\"14.00\">x1w1 + x2w2</text>\n<polyline fill=\"none\" stroke=\"black\" points=\"423,-222.5 515,-222.5 \"/>\n<text text-anchor=\"middle\" x=\"469\" y=\"-207.3\" font-family=\"Times,serif\" font-size=\"14.00\">data &#45;6.0000</text>\n<polyline fill=\"none\" stroke=\"black\" points=\"423,-199.5 515,-199.5 \"/>\n<text text-anchor=\"middle\" x=\"469\" y=\"-184.3\" font-family=\"Times,serif\" font-size=\"14.00\">grad 0.5001</text>\n</g>\n<!-- 140282073223072&#45;&gt;140282075140976+ -->\n<g id=\"edge21\" class=\"edge\">\n<title>140282073223072&#45;&gt;140282075140976+</title>\n<path fill=\"none\" stroke=\"black\" d=\"M515.07,-192.47C525.24,-188.28 535.83,-183.93 545.32,-180.03\"/>\n<polygon fill=\"black\" stroke=\"black\" points=\"546.82,-183.19 554.74,-176.15 544.16,-176.72 546.82,-183.19\"/>\n</g>\n<!-- 140282073223072+&#45;&gt;140282073223072 -->\n<g id=\"edge9\" class=\"edge\">\n<title>140282073223072+&#45;&gt;140282073223072</title>\n<path fill=\"none\" stroke=\"black\" d=\"M387.18,-211C395,-211 403.88,-211 412.83,-211\"/>\n<polygon fill=\"black\" stroke=\"black\" points=\"412.91,-214.5 422.91,-211 412.91,-207.5 412.91,-214.5\"/>\n</g>\n<!-- 140282073774016 -->\n<g id=\"node26\" class=\"node\">\n<title>140282073774016</title>\n<polygon fill=\"none\" stroke=\"black\" points=\"1057.5,-176.5 1057.5,-245.5 1142.5,-245.5 1142.5,-176.5 1057.5,-176.5\"/>\n<text text-anchor=\"middle\" x=\"1100\" y=\"-230.3\" font-family=\"Times,serif\" font-size=\"14.00\"> </text>\n<polyline fill=\"none\" stroke=\"black\" points=\"1057.5,-222.5 1142.5,-222.5 \"/>\n<text text-anchor=\"middle\" x=\"1100\" y=\"-207.3\" font-family=\"Times,serif\" font-size=\"14.00\">data &#45;1.0000</text>\n<polyline fill=\"none\" stroke=\"black\" points=\"1057.5,-199.5 1142.5,-199.5 \"/>\n<text text-anchor=\"middle\" x=\"1100\" y=\"-184.3\" font-family=\"Times,serif\" font-size=\"14.00\">grad 0.1465</text>\n</g>\n<!-- 140282073774016&#45;&gt;140282073772096+ -->\n<g id=\"edge13\" class=\"edge\">\n<title>140282073774016&#45;&gt;140282073772096+</title>\n<path fill=\"none\" stroke=\"black\" d=\"M1142.7,-189.75C1153.49,-184.25 1164.9,-178.43 1174.97,-173.31\"/>\n<polygon fill=\"black\" stroke=\"black\" points=\"1176.82,-176.29 1184.14,-168.63 1173.64,-170.05 1176.82,-176.29\"/>\n</g>\n<!-- 140282073222016 -->\n<g id=\"node27\" class=\"node\">\n<title>140282073222016</title>\n<polygon fill=\"none\" stroke=\"black\" points=\"213.5,-132.5 213.5,-201.5 295.5,-201.5 295.5,-132.5 213.5,-132.5\"/>\n<text text-anchor=\"middle\" x=\"254.5\" y=\"-186.3\" font-family=\"Times,serif\" font-size=\"14.00\">(&#39;x2w2&#39;,)</text>\n<polyline fill=\"none\" stroke=\"black\" points=\"213.5,-178.5 295.5,-178.5 \"/>\n<text text-anchor=\"middle\" x=\"254.5\" y=\"-163.3\" font-family=\"Times,serif\" font-size=\"14.00\">data 0.0000</text>\n<polyline fill=\"none\" stroke=\"black\" points=\"213.5,-155.5 295.5,-155.5 \"/>\n<text text-anchor=\"middle\" x=\"254.5\" y=\"-140.3\" font-family=\"Times,serif\" font-size=\"14.00\">grad 0.5001</text>\n</g>\n<!-- 140282073222016&#45;&gt;140282073223072+ -->\n<g id=\"edge27\" class=\"edge\">\n<title>140282073222016&#45;&gt;140282073223072+</title>\n<path fill=\"none\" stroke=\"black\" d=\"M295.52,-184.01C306.12,-188.52 317.42,-193.32 327.5,-197.61\"/>\n<polygon fill=\"black\" stroke=\"black\" points=\"326.16,-200.84 336.73,-201.53 328.9,-194.4 326.16,-200.84\"/>\n</g>\n<!-- 140282073222016*&#45;&gt;140282073222016 -->\n<g id=\"edge10\" class=\"edge\">\n<title>140282073222016*&#45;&gt;140282073222016</title>\n<path fill=\"none\" stroke=\"black\" d=\"M176.12,-167C184.39,-167 193.82,-167 203.19,-167\"/>\n<polygon fill=\"black\" stroke=\"black\" points=\"203.28,-170.5 213.28,-167 203.28,-163.5 203.28,-170.5\"/>\n</g>\n</g>\n</svg>\n"
          },
          "metadata": {},
          "execution_count": 92
        }
      ]
    },
    {
      "cell_type": "code",
      "source": [
        "class Neuron:\n",
        "  \n",
        "  def __init__(self, nin):\n",
        "    self.w = [Value(random.uniform(-1,1)) for _ in range(nin)]\n",
        "    self.b = Value(random.uniform(-1,1))\n",
        "  \n",
        "  def __call__(self, x):\n",
        "    # w * x + b\n",
        "    act = sum((wi*xi for wi, xi in zip(self.w, x)), self.b)\n",
        "    out = act.tanh()\n",
        "    return out\n",
        "  \n",
        "  def parameters(self):\n",
        "    return self.w + [self.b]\n",
        "\n",
        "class Layer:\n",
        "  \n",
        "  def __init__(self, nin, nout):\n",
        "    self.neurons = [Neuron(nin) for _ in range(nout)]\n",
        "  \n",
        "  def __call__(self, x):\n",
        "    outs = [n(x) for n in self.neurons]\n",
        "    return outs[0] if len(outs) == 1 else outs\n",
        "  \n",
        "  def parameters(self):\n",
        "    return [p for neuron in self.neurons for p in neuron.parameters()]\n",
        "\n",
        "class MLP:\n",
        "  \n",
        "  def __init__(self, nin, nouts):\n",
        "    sz = [nin] + nouts\n",
        "    self.layers = [Layer(sz[i], sz[i+1]) for i in range(len(nouts))]\n",
        "  \n",
        "  def __call__(self, x):\n",
        "    for layer in self.layers:\n",
        "      x = layer(x)\n",
        "    return x\n",
        "  \n",
        "  def parameters(self):\n",
        "    return [p for layer in self.layers for p in layer.parameters()]\n",
        "\n",
        "\n",
        "x = [2.0, 3.0, -1.0]\n",
        "n = MLP(3, [4, 4, 1])\n",
        "n(x)"
      ],
      "metadata": {
        "colab": {
          "base_uri": "https://localhost:8080/"
        },
        "id": "LQ8l8DJ-BD0w",
        "outputId": "f53a7cfb-521f-48de-bf0d-c483bfe0258a"
      },
      "execution_count": 146,
      "outputs": [
        {
          "output_type": "execute_result",
          "data": {
            "text/plain": [
              "Value(data=0.28946216842000855)"
            ]
          },
          "metadata": {},
          "execution_count": 146
        }
      ]
    },
    {
      "cell_type": "code",
      "source": [
        "xs = [\n",
        "  [2.0, 3.0, -1.0],\n",
        "  [3.0, -1.0, 0.5],\n",
        "  [0.5, 1.0, 1.0],\n",
        "  [1.0, 1.0, -1.0],\n",
        "]\n",
        "ys = [1.0, -1.0, -1.0, 1.0] # desired targets"
      ],
      "metadata": {
        "id": "ahmTWizQDqyF"
      },
      "execution_count": 147,
      "outputs": []
    },
    {
      "cell_type": "code",
      "source": [
        "for k in range(101):\n",
        "  # forward pass\n",
        "  ypred = [n(x) for x in xs]\n",
        "  loss = sum((yout-ygt)**2 for ygt, yout in zip(ys, ypred))\n",
        "\n",
        "  for p in n.parameters():\n",
        "    p.grad = 0\n",
        "\n",
        "  # backward pass\n",
        "  loss.backward()\n",
        "\n",
        "  # update\n",
        "  for p in n.parameters():\n",
        "    p.data += -0.05 * p.grad\n",
        "  \n",
        "  if k % 10 == 0:\n",
        "    print(k, loss.data)"
      ],
      "metadata": {
        "colab": {
          "base_uri": "https://localhost:8080/"
        },
        "id": "GOxzDDZuEGzQ",
        "outputId": "a876b411-f01c-43c5-b262-554da88f451b"
      },
      "execution_count": 150,
      "outputs": [
        {
          "output_type": "stream",
          "name": "stdout",
          "text": [
            "0 0.012039698723797893\n",
            "10 0.010440474683677559\n",
            "20 0.00919376576824191\n",
            "30 0.008196948852095563\n",
            "40 0.007383292426258172\n",
            "50 0.006707626688726485\n",
            "60 0.006138342753370037\n",
            "70 0.005652692885548512\n",
            "80 0.00523390989053209\n",
            "90 0.004869376519762714\n",
            "100 0.004549425372866459\n"
          ]
        }
      ]
    },
    {
      "cell_type": "code",
      "source": [
        "print(ypred)"
      ],
      "metadata": {
        "colab": {
          "base_uri": "https://localhost:8080/"
        },
        "id": "dN6eFaJgFhuX",
        "outputId": "0b8b92d2-1f5a-4399-9bc3-99cd0b96897c"
      },
      "execution_count": 151,
      "outputs": [
        {
          "output_type": "stream",
          "name": "stdout",
          "text": [
            "[Value(data=0.9584337799262189), Value(data=-0.970709622997919), Value(data=-0.9626298271815723), Value(data=0.9761836459498674)]\n"
          ]
        }
      ]
    }
  ]
}